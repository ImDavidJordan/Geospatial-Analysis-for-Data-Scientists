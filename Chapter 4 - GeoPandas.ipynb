{
 "cells": [
  {
   "cell_type": "code",
   "execution_count": 1,
   "id": "9e09f545",
   "metadata": {},
   "outputs": [],
   "source": [
    "import geopandas as gpd"
   ]
  },
  {
   "cell_type": "markdown",
   "id": "6aaf5ce0",
   "metadata": {},
   "source": [
    "## Reading geospatial data with GeoPandas"
   ]
  },
  {
   "cell_type": "markdown",
   "id": "f0ddc268",
   "metadata": {},
   "source": [
    "### Filtering using the mask parameter"
   ]
  },
  {
   "cell_type": "code",
   "execution_count": 2,
   "id": "1b06a321",
   "metadata": {},
   "outputs": [
    {
     "data": {
      "text/html": [
       "<div>\n",
       "<style scoped>\n",
       "    .dataframe tbody tr th:only-of-type {\n",
       "        vertical-align: middle;\n",
       "    }\n",
       "\n",
       "    .dataframe tbody tr th {\n",
       "        vertical-align: top;\n",
       "    }\n",
       "\n",
       "    .dataframe thead th {\n",
       "        text-align: right;\n",
       "    }\n",
       "</style>\n",
       "<table border=\"1\" class=\"dataframe\">\n",
       "  <thead>\n",
       "    <tr style=\"text-align: right;\">\n",
       "      <th></th>\n",
       "      <th>REGION</th>\n",
       "      <th>DIVISION</th>\n",
       "      <th>STATEFP</th>\n",
       "      <th>STATENS</th>\n",
       "      <th>GEOID</th>\n",
       "      <th>STUSPS</th>\n",
       "      <th>NAME</th>\n",
       "      <th>LSAD</th>\n",
       "      <th>MTFCC</th>\n",
       "      <th>FUNCSTAT</th>\n",
       "      <th>ALAND</th>\n",
       "      <th>AWATER</th>\n",
       "      <th>INTPTLAT</th>\n",
       "      <th>INTPTLON</th>\n",
       "      <th>geometry</th>\n",
       "    </tr>\n",
       "  </thead>\n",
       "  <tbody>\n",
       "    <tr>\n",
       "      <th>13</th>\n",
       "      <td>4</td>\n",
       "      <td>9</td>\n",
       "      <td>06</td>\n",
       "      <td>01779778</td>\n",
       "      <td>06</td>\n",
       "      <td>CA</td>\n",
       "      <td>California</td>\n",
       "      <td>00</td>\n",
       "      <td>G4000</td>\n",
       "      <td>A</td>\n",
       "      <td>403671756816</td>\n",
       "      <td>20293573058</td>\n",
       "      <td>+37.1551773</td>\n",
       "      <td>-119.5434183</td>\n",
       "      <td>MULTIPOLYGON (((-116.10617 32.61848, -116.1085...</td>\n",
       "    </tr>\n",
       "  </tbody>\n",
       "</table>\n",
       "</div>"
      ],
      "text/plain": [
       "   REGION DIVISION STATEFP   STATENS GEOID STUSPS        NAME LSAD  MTFCC  \\\n",
       "13      4        9      06  01779778    06     CA  California   00  G4000   \n",
       "\n",
       "   FUNCSTAT         ALAND       AWATER     INTPTLAT      INTPTLON  \\\n",
       "13        A  403671756816  20293573058  +37.1551773  -119.5434183   \n",
       "\n",
       "                                             geometry  \n",
       "13  MULTIPOLYGON (((-116.10617 32.61848, -116.1085...  "
      ]
     },
     "execution_count": 2,
     "metadata": {},
     "output_type": "execute_result"
    }
   ],
   "source": [
    "# Read in the US States file from the Census Tiger Files saved as a zip\n",
    "states_zip = r\"G:\\My Drive\\Geospatial Data Science with Python\\Data\\tl_2021_us_state.zip\"\n",
    "us_states = gpd.read_file(states_zip)\n",
    "\n",
    "# Filter the US States file to be just California\n",
    "california = us_states[us_states['NAME']==\"California\"] \n",
    "\n",
    "# Show the dataframe  \n",
    "california.head()"
   ]
  },
  {
   "cell_type": "code",
   "execution_count": 3,
   "id": "6cc877bb",
   "metadata": {},
   "outputs": [
    {
     "data": {
      "text/html": [
       "<div>\n",
       "<style scoped>\n",
       "    .dataframe tbody tr th:only-of-type {\n",
       "        vertical-align: middle;\n",
       "    }\n",
       "\n",
       "    .dataframe tbody tr th {\n",
       "        vertical-align: top;\n",
       "    }\n",
       "\n",
       "    .dataframe thead th {\n",
       "        text-align: right;\n",
       "    }\n",
       "</style>\n",
       "<table border=\"1\" class=\"dataframe\">\n",
       "  <thead>\n",
       "    <tr style=\"text-align: right;\">\n",
       "      <th></th>\n",
       "      <th>CSAFP</th>\n",
       "      <th>CBSAFP</th>\n",
       "      <th>GEOID</th>\n",
       "      <th>NAME</th>\n",
       "      <th>NAMELSAD</th>\n",
       "      <th>LSAD</th>\n",
       "      <th>MEMI</th>\n",
       "      <th>MTFCC</th>\n",
       "      <th>ALAND</th>\n",
       "      <th>AWATER</th>\n",
       "      <th>INTPTLAT</th>\n",
       "      <th>INTPTLON</th>\n",
       "      <th>geometry</th>\n",
       "    </tr>\n",
       "  </thead>\n",
       "  <tbody>\n",
       "    <tr>\n",
       "      <th>0</th>\n",
       "      <td>None</td>\n",
       "      <td>12540</td>\n",
       "      <td>12540</td>\n",
       "      <td>Bakersfield, CA</td>\n",
       "      <td>Bakersfield, CA Metro Area</td>\n",
       "      <td>M1</td>\n",
       "      <td>1</td>\n",
       "      <td>G3110</td>\n",
       "      <td>21068632654</td>\n",
       "      <td>78405068</td>\n",
       "      <td>+35.3466288</td>\n",
       "      <td>-118.7295064</td>\n",
       "      <td>POLYGON ((-118.88168 34.81785, -118.88204 34.8...</td>\n",
       "    </tr>\n",
       "    <tr>\n",
       "      <th>1</th>\n",
       "      <td>None</td>\n",
       "      <td>15060</td>\n",
       "      <td>15060</td>\n",
       "      <td>Brookings, OR</td>\n",
       "      <td>Brookings, OR Micro Area</td>\n",
       "      <td>M2</td>\n",
       "      <td>2</td>\n",
       "      <td>G3110</td>\n",
       "      <td>4217489863</td>\n",
       "      <td>934614482</td>\n",
       "      <td>+42.4664387</td>\n",
       "      <td>-124.2109292</td>\n",
       "      <td>POLYGON ((-123.82239 42.15933, -123.82246 42.1...</td>\n",
       "    </tr>\n",
       "    <tr>\n",
       "      <th>2</th>\n",
       "      <td>None</td>\n",
       "      <td>17340</td>\n",
       "      <td>17340</td>\n",
       "      <td>Clearlake, CA</td>\n",
       "      <td>Clearlake, CA Micro Area</td>\n",
       "      <td>M2</td>\n",
       "      <td>2</td>\n",
       "      <td>G3110</td>\n",
       "      <td>3254452700</td>\n",
       "      <td>188748214</td>\n",
       "      <td>+39.0948019</td>\n",
       "      <td>-122.7467569</td>\n",
       "      <td>POLYGON ((-122.41579 38.76800, -122.41584 38.7...</td>\n",
       "    </tr>\n",
       "    <tr>\n",
       "      <th>3</th>\n",
       "      <td>None</td>\n",
       "      <td>18860</td>\n",
       "      <td>18860</td>\n",
       "      <td>Crescent City, CA</td>\n",
       "      <td>Crescent City, CA Micro Area</td>\n",
       "      <td>M2</td>\n",
       "      <td>2</td>\n",
       "      <td>G3110</td>\n",
       "      <td>2606118035</td>\n",
       "      <td>578742633</td>\n",
       "      <td>+41.7499033</td>\n",
       "      <td>-123.9809983</td>\n",
       "      <td>POLYGON ((-124.31611 41.72839, -124.33061 41.7...</td>\n",
       "    </tr>\n",
       "    <tr>\n",
       "      <th>4</th>\n",
       "      <td>456</td>\n",
       "      <td>22280</td>\n",
       "      <td>22280</td>\n",
       "      <td>Fernley, NV</td>\n",
       "      <td>Fernley, NV Micro Area</td>\n",
       "      <td>M2</td>\n",
       "      <td>2</td>\n",
       "      <td>G3110</td>\n",
       "      <td>5187939862</td>\n",
       "      <td>59489121</td>\n",
       "      <td>+39.0222125</td>\n",
       "      <td>-119.1974246</td>\n",
       "      <td>POLYGON ((-118.90650 38.51631, -118.90649 38.5...</td>\n",
       "    </tr>\n",
       "  </tbody>\n",
       "</table>\n",
       "</div>"
      ],
      "text/plain": [
       "  CSAFP CBSAFP  GEOID               NAME                      NAMELSAD LSAD  \\\n",
       "0  None  12540  12540    Bakersfield, CA    Bakersfield, CA Metro Area   M1   \n",
       "1  None  15060  15060      Brookings, OR      Brookings, OR Micro Area   M2   \n",
       "2  None  17340  17340      Clearlake, CA      Clearlake, CA Micro Area   M2   \n",
       "3  None  18860  18860  Crescent City, CA  Crescent City, CA Micro Area   M2   \n",
       "4   456  22280  22280        Fernley, NV        Fernley, NV Micro Area   M2   \n",
       "\n",
       "  MEMI  MTFCC        ALAND     AWATER     INTPTLAT      INTPTLON  \\\n",
       "0    1  G3110  21068632654   78405068  +35.3466288  -118.7295064   \n",
       "1    2  G3110   4217489863  934614482  +42.4664387  -124.2109292   \n",
       "2    2  G3110   3254452700  188748214  +39.0948019  -122.7467569   \n",
       "3    2  G3110   2606118035  578742633  +41.7499033  -123.9809983   \n",
       "4    2  G3110   5187939862   59489121  +39.0222125  -119.1974246   \n",
       "\n",
       "                                            geometry  \n",
       "0  POLYGON ((-118.88168 34.81785, -118.88204 34.8...  \n",
       "1  POLYGON ((-123.82239 42.15933, -123.82246 42.1...  \n",
       "2  POLYGON ((-122.41579 38.76800, -122.41584 38.7...  \n",
       "3  POLYGON ((-124.31611 41.72839, -124.33061 41.7...  \n",
       "4  POLYGON ((-118.90650 38.51631, -118.90649 38.5...  "
      ]
     },
     "execution_count": 3,
     "metadata": {},
     "output_type": "execute_result"
    }
   ],
   "source": [
    "# Read in the US Census Bureau CBSAs \n",
    "zipped_file = r\"G:\\My Drive\\Geospatial Data Science with Python\\Data\\tl_2021_us_cbsa.zip\"\n",
    "\n",
    "# Create a new geopandas dataframe that only includes the CBSAs that are in California using the geopandas mask parameter and passing the previously defined california geopandas dataframe\n",
    "ca_cbsas = gpd.read_file(zipped_file, mask=california)\n",
    "\n",
    "# Show the first 5 records of the ca_cbsas geopandas dataframe\n",
    "ca_cbsas.head()"
   ]
  },
  {
   "cell_type": "code",
   "execution_count": 4,
   "id": "76165a1b",
   "metadata": {},
   "outputs": [
    {
     "data": {
      "text/plain": [
       "46"
      ]
     },
     "execution_count": 4,
     "metadata": {},
     "output_type": "execute_result"
    }
   ],
   "source": [
    "len(ca_cbsas)"
   ]
  },
  {
   "cell_type": "markdown",
   "id": "40979399",
   "metadata": {},
   "source": [
    "### Filtering using the bounding box parameter"
   ]
  },
  {
   "cell_type": "code",
   "execution_count": 5,
   "id": "de910bc5",
   "metadata": {},
   "outputs": [
    {
     "data": {
      "text/html": [
       "<div>\n",
       "<style scoped>\n",
       "    .dataframe tbody tr th:only-of-type {\n",
       "        vertical-align: middle;\n",
       "    }\n",
       "\n",
       "    .dataframe tbody tr th {\n",
       "        vertical-align: top;\n",
       "    }\n",
       "\n",
       "    .dataframe thead th {\n",
       "        text-align: right;\n",
       "    }\n",
       "</style>\n",
       "<table border=\"1\" class=\"dataframe\">\n",
       "  <thead>\n",
       "    <tr style=\"text-align: right;\">\n",
       "      <th></th>\n",
       "      <th>CSAFP</th>\n",
       "      <th>CBSAFP</th>\n",
       "      <th>GEOID</th>\n",
       "      <th>NAME</th>\n",
       "      <th>NAMELSAD</th>\n",
       "      <th>LSAD</th>\n",
       "      <th>MEMI</th>\n",
       "      <th>MTFCC</th>\n",
       "      <th>ALAND</th>\n",
       "      <th>AWATER</th>\n",
       "      <th>INTPTLAT</th>\n",
       "      <th>INTPTLON</th>\n",
       "      <th>geometry</th>\n",
       "    </tr>\n",
       "  </thead>\n",
       "  <tbody>\n",
       "    <tr>\n",
       "      <th>0</th>\n",
       "      <td>None</td>\n",
       "      <td>15060</td>\n",
       "      <td>15060</td>\n",
       "      <td>Brookings, OR</td>\n",
       "      <td>Brookings, OR Micro Area</td>\n",
       "      <td>M2</td>\n",
       "      <td>2</td>\n",
       "      <td>G3110</td>\n",
       "      <td>4217489863</td>\n",
       "      <td>934614482</td>\n",
       "      <td>+42.4664387</td>\n",
       "      <td>-124.2109292</td>\n",
       "      <td>POLYGON ((-123.82239 42.15933, -123.82246 42.1...</td>\n",
       "    </tr>\n",
       "    <tr>\n",
       "      <th>1</th>\n",
       "      <td>None</td>\n",
       "      <td>18860</td>\n",
       "      <td>18860</td>\n",
       "      <td>Crescent City, CA</td>\n",
       "      <td>Crescent City, CA Micro Area</td>\n",
       "      <td>M2</td>\n",
       "      <td>2</td>\n",
       "      <td>G3110</td>\n",
       "      <td>2606118035</td>\n",
       "      <td>578742633</td>\n",
       "      <td>+41.7499033</td>\n",
       "      <td>-123.9809983</td>\n",
       "      <td>POLYGON ((-124.31611 41.72839, -124.33061 41.7...</td>\n",
       "    </tr>\n",
       "    <tr>\n",
       "      <th>2</th>\n",
       "      <td>None</td>\n",
       "      <td>21700</td>\n",
       "      <td>21700</td>\n",
       "      <td>Eureka-Arcata, CA</td>\n",
       "      <td>Eureka-Arcata, CA Micro Area</td>\n",
       "      <td>M2</td>\n",
       "      <td>2</td>\n",
       "      <td>G3110</td>\n",
       "      <td>9241565229</td>\n",
       "      <td>1253726036</td>\n",
       "      <td>+40.7066554</td>\n",
       "      <td>-123.9261757</td>\n",
       "      <td>POLYGON ((-124.36704 40.67227, -124.36080 40.6...</td>\n",
       "    </tr>\n",
       "    <tr>\n",
       "      <th>3</th>\n",
       "      <td>366</td>\n",
       "      <td>24420</td>\n",
       "      <td>24420</td>\n",
       "      <td>Grants Pass, OR</td>\n",
       "      <td>Grants Pass, OR Metro Area</td>\n",
       "      <td>M1</td>\n",
       "      <td>1</td>\n",
       "      <td>G3110</td>\n",
       "      <td>4244080762</td>\n",
       "      <td>5631773</td>\n",
       "      <td>+42.3869829</td>\n",
       "      <td>-123.5716197</td>\n",
       "      <td>POLYGON ((-123.23109 42.12807, -123.23108 42.1...</td>\n",
       "    </tr>\n",
       "    <tr>\n",
       "      <th>4</th>\n",
       "      <td>None</td>\n",
       "      <td>46380</td>\n",
       "      <td>46380</td>\n",
       "      <td>Ukiah, CA</td>\n",
       "      <td>Ukiah, CA Micro Area</td>\n",
       "      <td>M2</td>\n",
       "      <td>2</td>\n",
       "      <td>G3110</td>\n",
       "      <td>9082632466</td>\n",
       "      <td>961740401</td>\n",
       "      <td>+39.4323876</td>\n",
       "      <td>-123.4428811</td>\n",
       "      <td>POLYGON ((-123.23896 38.80856, -123.24382 38.8...</td>\n",
       "    </tr>\n",
       "  </tbody>\n",
       "</table>\n",
       "</div>"
      ],
      "text/plain": [
       "  CSAFP CBSAFP  GEOID               NAME                      NAMELSAD LSAD  \\\n",
       "0  None  15060  15060      Brookings, OR      Brookings, OR Micro Area   M2   \n",
       "1  None  18860  18860  Crescent City, CA  Crescent City, CA Micro Area   M2   \n",
       "2  None  21700  21700  Eureka-Arcata, CA  Eureka-Arcata, CA Micro Area   M2   \n",
       "3   366  24420  24420    Grants Pass, OR    Grants Pass, OR Metro Area   M1   \n",
       "4  None  46380  46380          Ukiah, CA          Ukiah, CA Micro Area   M2   \n",
       "\n",
       "  MEMI  MTFCC       ALAND      AWATER     INTPTLAT      INTPTLON  \\\n",
       "0    2  G3110  4217489863   934614482  +42.4664387  -124.2109292   \n",
       "1    2  G3110  2606118035   578742633  +41.7499033  -123.9809983   \n",
       "2    2  G3110  9241565229  1253726036  +40.7066554  -123.9261757   \n",
       "3    1  G3110  4244080762     5631773  +42.3869829  -123.5716197   \n",
       "4    2  G3110  9082632466   961740401  +39.4323876  -123.4428811   \n",
       "\n",
       "                                            geometry  \n",
       "0  POLYGON ((-123.82239 42.15933, -123.82246 42.1...  \n",
       "1  POLYGON ((-124.31611 41.72839, -124.33061 41.7...  \n",
       "2  POLYGON ((-124.36704 40.67227, -124.36080 40.6...  \n",
       "3  POLYGON ((-123.23109 42.12807, -123.23108 42.1...  \n",
       "4  POLYGON ((-123.23896 38.80856, -123.24382 38.8...  "
      ]
     },
     "execution_count": 5,
     "metadata": {},
     "output_type": "execute_result"
    }
   ],
   "source": [
    "# Defining the bounding box\n",
    "bounding_box = (-123.82239, 42.15933, -123.82246, 38.7)\n",
    "\n",
    "#Reading in the CA_CBSAs and filtering based on the bounding box\n",
    "cbsas_bbox = gpd.read_file(zipped_file, bbox=bounding_box)\n",
    "\n",
    "# Showing the first 5 rows of the filtered dataframe\n",
    "cbsas_bbox.head()"
   ]
  },
  {
   "cell_type": "markdown",
   "id": "3894d767",
   "metadata": {},
   "source": [
    "## Writing geospatial data with GeoPandas"
   ]
  },
  {
   "cell_type": "code",
   "execution_count": 6,
   "id": "1ba57087",
   "metadata": {},
   "outputs": [],
   "source": [
    "# Setting the folder we want to write the output data to\n",
    "out_path = r\"G:\\My Drive\\Geospatial Data Science with Python\\Data\\\\\"\n",
    "\n",
    "# Writing out the data as a shape file\n",
    "ca_cbsas.to_file(out_path+\"ca_cbsas.shp\")"
   ]
  },
  {
   "cell_type": "code",
   "execution_count": 7,
   "id": "778051f2",
   "metadata": {},
   "outputs": [],
   "source": [
    "# Setting the folder we want to write the output data to\n",
    "out_path = r\"G:\\My Drive\\Geospatial Data Science with Python\\Data\\\\\"\n",
    "\n",
    "# Writing out the data as a shape file\n",
    "cbsas_bbox.to_file(out_path+\"cbsas_bbox.geojson\", driver=\"GeoJSON\")"
   ]
  },
  {
   "cell_type": "markdown",
   "id": "8ab04681",
   "metadata": {},
   "source": [
    "## Ploting Geospatial Data"
   ]
  },
  {
   "cell_type": "code",
   "execution_count": 8,
   "id": "1c893ad6",
   "metadata": {},
   "outputs": [
    {
     "data": {
      "text/plain": [
       "<AxesSubplot:>"
      ]
     },
     "execution_count": 8,
     "metadata": {},
     "output_type": "execute_result"
    },
    {
     "data": {
      "image/png": "[encoded data removed]",
      "text/plain": [
       "<Figure size 432x288 with 1 Axes>"
      ]
     },
     "metadata": {
      "needs_background": "light"
     },
     "output_type": "display_data"
    }
   ],
   "source": [
    "# Basic map of California CBSAs\n",
    "ca_cbsas.plot()"
   ]
  },
  {
   "cell_type": "code",
   "execution_count": 9,
   "id": "36805cb6",
   "metadata": {
    "scrolled": true
   },
   "outputs": [
    {
     "data": {
      "text/plain": [
       "<AxesSubplot:>"
      ]
     },
     "execution_count": 9,
     "metadata": {},
     "output_type": "execute_result"
    },
    {
     "data": {
      "image/png": "[encoded data removed]",
      "text/plain": [
       "<Figure size 432x288 with 1 Axes>"
      ]
     },
     "metadata": {
      "needs_background": "light"
     },
     "output_type": "display_data"
    }
   ],
   "source": [
    "# Choropleth Map of the world's population \n",
    "\n",
    "# Reading in the natural earth lowres data\n",
    "world = gpd.read_file(gpd.datasets.get_path('naturalearth_lowres'))\n",
    "\n",
    "# Plotting the data colored by the pop_est GeoSeries\n",
    "world.plot(column='pop_est')"
   ]
  },
  {
   "cell_type": "code",
   "execution_count": 13,
   "id": "e7005023",
   "metadata": {},
   "outputs": [
    {
     "data": {
      "text/html": [
       "<div>\n",
       "<style scoped>\n",
       "    .dataframe tbody tr th:only-of-type {\n",
       "        vertical-align: middle;\n",
       "    }\n",
       "\n",
       "    .dataframe tbody tr th {\n",
       "        vertical-align: top;\n",
       "    }\n",
       "\n",
       "    .dataframe thead th {\n",
       "        text-align: right;\n",
       "    }\n",
       "</style>\n",
       "<table border=\"1\" class=\"dataframe\">\n",
       "  <thead>\n",
       "    <tr style=\"text-align: right;\">\n",
       "      <th></th>\n",
       "      <th>pop_est</th>\n",
       "      <th>continent</th>\n",
       "      <th>name</th>\n",
       "      <th>iso_a3</th>\n",
       "      <th>gdp_md_est</th>\n",
       "      <th>geometry</th>\n",
       "    </tr>\n",
       "  </thead>\n",
       "  <tbody>\n",
       "    <tr>\n",
       "      <th>0</th>\n",
       "      <td>920938</td>\n",
       "      <td>Oceania</td>\n",
       "      <td>Fiji</td>\n",
       "      <td>FJI</td>\n",
       "      <td>8374.0</td>\n",
       "      <td>MULTIPOLYGON (((180.00000 -16.06713, 180.00000...</td>\n",
       "    </tr>\n",
       "    <tr>\n",
       "      <th>1</th>\n",
       "      <td>53950935</td>\n",
       "      <td>Africa</td>\n",
       "      <td>Tanzania</td>\n",
       "      <td>TZA</td>\n",
       "      <td>150600.0</td>\n",
       "      <td>POLYGON ((33.90371 -0.95000, 34.07262 -1.05982...</td>\n",
       "    </tr>\n",
       "    <tr>\n",
       "      <th>2</th>\n",
       "      <td>603253</td>\n",
       "      <td>Africa</td>\n",
       "      <td>W. Sahara</td>\n",
       "      <td>ESH</td>\n",
       "      <td>906.5</td>\n",
       "      <td>POLYGON ((-8.66559 27.65643, -8.66512 27.58948...</td>\n",
       "    </tr>\n",
       "    <tr>\n",
       "      <th>3</th>\n",
       "      <td>35623680</td>\n",
       "      <td>North America</td>\n",
       "      <td>Canada</td>\n",
       "      <td>CAN</td>\n",
       "      <td>1674000.0</td>\n",
       "      <td>MULTIPOLYGON (((-122.84000 49.00000, -122.9742...</td>\n",
       "    </tr>\n",
       "    <tr>\n",
       "      <th>4</th>\n",
       "      <td>326625791</td>\n",
       "      <td>North America</td>\n",
       "      <td>United States of America</td>\n",
       "      <td>USA</td>\n",
       "      <td>18560000.0</td>\n",
       "      <td>MULTIPOLYGON (((-122.84000 49.00000, -120.0000...</td>\n",
       "    </tr>\n",
       "  </tbody>\n",
       "</table>\n",
       "</div>"
      ],
      "text/plain": [
       "     pop_est      continent                      name iso_a3  gdp_md_est  \\\n",
       "0     920938        Oceania                      Fiji    FJI      8374.0   \n",
       "1   53950935         Africa                  Tanzania    TZA    150600.0   \n",
       "2     603253         Africa                 W. Sahara    ESH       906.5   \n",
       "3   35623680  North America                    Canada    CAN   1674000.0   \n",
       "4  326625791  North America  United States of America    USA  18560000.0   \n",
       "\n",
       "                                            geometry  \n",
       "0  MULTIPOLYGON (((180.00000 -16.06713, 180.00000...  \n",
       "1  POLYGON ((33.90371 -0.95000, 34.07262 -1.05982...  \n",
       "2  POLYGON ((-8.66559 27.65643, -8.66512 27.58948...  \n",
       "3  MULTIPOLYGON (((-122.84000 49.00000, -122.9742...  \n",
       "4  MULTIPOLYGON (((-122.84000 49.00000, -120.0000...  "
      ]
     },
     "execution_count": 13,
     "metadata": {},
     "output_type": "execute_result"
    }
   ],
   "source": [
    "world.head()"
   ]
  },
  {
   "cell_type": "code",
   "execution_count": 15,
   "id": "e33e6c28",
   "metadata": {},
   "outputs": [
    {
     "data": {
      "text/html": [
       "<div>\n",
       "<style scoped>\n",
       "    .dataframe tbody tr th:only-of-type {\n",
       "        vertical-align: middle;\n",
       "    }\n",
       "\n",
       "    .dataframe tbody tr th {\n",
       "        vertical-align: top;\n",
       "    }\n",
       "\n",
       "    .dataframe thead th {\n",
       "        text-align: right;\n",
       "    }\n",
       "</style>\n",
       "<table border=\"1\" class=\"dataframe\">\n",
       "  <thead>\n",
       "    <tr style=\"text-align: right;\">\n",
       "      <th></th>\n",
       "      <th>geometry</th>\n",
       "      <th>pop_est</th>\n",
       "      <th>name</th>\n",
       "      <th>iso_a3</th>\n",
       "      <th>gdp_md_est</th>\n",
       "    </tr>\n",
       "    <tr>\n",
       "      <th>continent</th>\n",
       "      <th></th>\n",
       "      <th></th>\n",
       "      <th></th>\n",
       "      <th></th>\n",
       "      <th></th>\n",
       "    </tr>\n",
       "  </thead>\n",
       "  <tbody>\n",
       "    <tr>\n",
       "      <th>Africa</th>\n",
       "      <td>MULTIPOLYGON (((32.830 -26.742, 32.580 -27.470...</td>\n",
       "      <td>53950935</td>\n",
       "      <td>Tanzania</td>\n",
       "      <td>TZA</td>\n",
       "      <td>150600.0</td>\n",
       "    </tr>\n",
       "    <tr>\n",
       "      <th>Antarctica</th>\n",
       "      <td>MULTIPOLYGON (((-163.713 -78.596, -163.713 -78...</td>\n",
       "      <td>4050</td>\n",
       "      <td>Antarctica</td>\n",
       "      <td>ATA</td>\n",
       "      <td>810.0</td>\n",
       "    </tr>\n",
       "    <tr>\n",
       "      <th>Asia</th>\n",
       "      <td>MULTIPOLYGON (((120.295 -10.259, 118.968 -9.55...</td>\n",
       "      <td>18556698</td>\n",
       "      <td>Kazakhstan</td>\n",
       "      <td>KAZ</td>\n",
       "      <td>460700.0</td>\n",
       "    </tr>\n",
       "    <tr>\n",
       "      <th>Europe</th>\n",
       "      <td>MULTIPOLYGON (((-51.658 4.156, -52.249 3.241, ...</td>\n",
       "      <td>142257519</td>\n",
       "      <td>Russia</td>\n",
       "      <td>RUS</td>\n",
       "      <td>3745000.0</td>\n",
       "    </tr>\n",
       "    <tr>\n",
       "      <th>North America</th>\n",
       "      <td>MULTIPOLYGON (((-61.680 10.760, -61.105 10.890...</td>\n",
       "      <td>35623680</td>\n",
       "      <td>Canada</td>\n",
       "      <td>CAN</td>\n",
       "      <td>1674000.0</td>\n",
       "    </tr>\n",
       "  </tbody>\n",
       "</table>\n",
       "</div>"
      ],
      "text/plain": [
       "                                                        geometry    pop_est  \\\n",
       "continent                                                                     \n",
       "Africa         MULTIPOLYGON (((32.830 -26.742, 32.580 -27.470...   53950935   \n",
       "Antarctica     MULTIPOLYGON (((-163.713 -78.596, -163.713 -78...       4050   \n",
       "Asia           MULTIPOLYGON (((120.295 -10.259, 118.968 -9.55...   18556698   \n",
       "Europe         MULTIPOLYGON (((-51.658 4.156, -52.249 3.241, ...  142257519   \n",
       "North America  MULTIPOLYGON (((-61.680 10.760, -61.105 10.890...   35623680   \n",
       "\n",
       "                     name iso_a3  gdp_md_est  \n",
       "continent                                     \n",
       "Africa           Tanzania    TZA    150600.0  \n",
       "Antarctica     Antarctica    ATA       810.0  \n",
       "Asia           Kazakhstan    KAZ    460700.0  \n",
       "Europe             Russia    RUS   3745000.0  \n",
       "North America      Canada    CAN   1674000.0  "
      ]
     },
     "execution_count": 15,
     "metadata": {},
     "output_type": "execute_result"
    }
   ],
   "source": [
    "continents = world.dissolve(by=\"continent\")\n",
    "continents.head()"
   ]
  },
  {
   "cell_type": "code",
   "execution_count": 14,
   "id": "f39dfb93",
   "metadata": {},
   "outputs": [
    {
     "data": {
      "text/plain": [
       "<AxesSubplot:>"
      ]
     },
     "execution_count": 14,
     "metadata": {},
     "output_type": "execute_result"
    },
    {
     "data": {
      "image/png": "[encoded data removed]",
      "text/plain": [
       "<Figure size 432x288 with 1 Axes>"
      ]
     },
     "metadata": {
      "needs_background": "light"
     },
     "output_type": "display_data"
    }
   ],
   "source": [
    "continents.plot()"
   ]
  },
  {
   "cell_type": "markdown",
   "id": "045f358b",
   "metadata": {},
   "source": [
    "### Geocoding"
   ]
  },
  {
   "cell_type": "code",
   "execution_count": 18,
   "id": "cc25dbfa",
   "metadata": {},
   "outputs": [
    {
     "data": {
      "text/html": [
       "<div>\n",
       "<style scoped>\n",
       "    .dataframe tbody tr th:only-of-type {\n",
       "        vertical-align: middle;\n",
       "    }\n",
       "\n",
       "    .dataframe tbody tr th {\n",
       "        vertical-align: top;\n",
       "    }\n",
       "\n",
       "    .dataframe thead th {\n",
       "        text-align: right;\n",
       "    }\n",
       "</style>\n",
       "<table border=\"1\" class=\"dataframe\">\n",
       "  <thead>\n",
       "    <tr style=\"text-align: right;\">\n",
       "      <th></th>\n",
       "      <th>Attraction</th>\n",
       "      <th>Address</th>\n",
       "    </tr>\n",
       "  </thead>\n",
       "  <tbody>\n",
       "    <tr>\n",
       "      <th>0</th>\n",
       "      <td>Washington Monument</td>\n",
       "      <td>2 15th St NW, Washington, DC 20024</td>\n",
       "    </tr>\n",
       "    <tr>\n",
       "      <th>1</th>\n",
       "      <td>Smithsonian National Air and Space Museum</td>\n",
       "      <td>600 Independence Ave SW, Washington, DC 20560</td>\n",
       "    </tr>\n",
       "    <tr>\n",
       "      <th>2</th>\n",
       "      <td>White House</td>\n",
       "      <td>1600 Pennsylvania Avenue NW, Washington, DC 20500</td>\n",
       "    </tr>\n",
       "  </tbody>\n",
       "</table>\n",
       "</div>"
      ],
      "text/plain": [
       "                                  Attraction  \\\n",
       "0                        Washington Monument   \n",
       "1  Smithsonian National Air and Space Museum   \n",
       "2                                White House   \n",
       "\n",
       "                                             Address  \n",
       "0                 2 15th St NW, Washington, DC 20024  \n",
       "1      600 Independence Ave SW, Washington, DC 20560  \n",
       "2  1600 Pennsylvania Avenue NW, Washington, DC 20500  "
      ]
     },
     "execution_count": 18,
     "metadata": {},
     "output_type": "execute_result"
    }
   ],
   "source": [
    "import pandas as pd\n",
    "dc_attractions = pd.read_csv(r'G:\\My Drive\\Geospatial Data Science with Python\\Data\\DC_Attractions.csv')\n",
    "dc_attractions.head()"
   ]
  },
  {
   "cell_type": "code",
   "execution_count": 27,
   "id": "e1dc2cff",
   "metadata": {},
   "outputs": [
    {
     "data": {
      "text/html": [
       "<div>\n",
       "<style scoped>\n",
       "    .dataframe tbody tr th:only-of-type {\n",
       "        vertical-align: middle;\n",
       "    }\n",
       "\n",
       "    .dataframe tbody tr th {\n",
       "        vertical-align: top;\n",
       "    }\n",
       "\n",
       "    .dataframe thead th {\n",
       "        text-align: right;\n",
       "    }\n",
       "</style>\n",
       "<table border=\"1\" class=\"dataframe\">\n",
       "  <thead>\n",
       "    <tr style=\"text-align: right;\">\n",
       "      <th></th>\n",
       "      <th>geometry</th>\n",
       "      <th>address</th>\n",
       "    </tr>\n",
       "  </thead>\n",
       "  <tbody>\n",
       "    <tr>\n",
       "      <th>0</th>\n",
       "      <td>POINT (-77.03459 38.90178)</td>\n",
       "      <td>15th Street NW, Golden Triangle, Washington, D...</td>\n",
       "    </tr>\n",
       "    <tr>\n",
       "      <th>1</th>\n",
       "      <td>POINT (-77.03771 38.88772)</td>\n",
       "      <td>Independence Avenue Southwest, Penn Quarter, W...</td>\n",
       "    </tr>\n",
       "    <tr>\n",
       "      <th>2</th>\n",
       "      <td>POINT (-77.03655 38.89772)</td>\n",
       "      <td>1600, Pennsylvania Avenue Northwest, Golden Tr...</td>\n",
       "    </tr>\n",
       "  </tbody>\n",
       "</table>\n",
       "</div>"
      ],
      "text/plain": [
       "                     geometry  \\\n",
       "0  POINT (-77.03459 38.90178)   \n",
       "1  POINT (-77.03771 38.88772)   \n",
       "2  POINT (-77.03655 38.89772)   \n",
       "\n",
       "                                             address  \n",
       "0  15th Street NW, Golden Triangle, Washington, D...  \n",
       "1  Independence Avenue Southwest, Penn Quarter, W...  \n",
       "2  1600, Pennsylvania Avenue Northwest, Golden Tr...  "
      ]
     },
     "execution_count": 27,
     "metadata": {},
     "output_type": "execute_result"
    }
   ],
   "source": [
    "from geopandas.tools import geocode\n",
    "\n",
    "# Geocode addresses using Nominatim. Remember to provide a custom \"application name\" in the user_agent parameter!\n",
    "dc_attractions_gpd = geocode(dc_attractions['Address'], provider='openmapquest', timeout=4, api_key=\"ZO5OH4wdsrGzmZL75HR5zKqcy9bUF0P9\")\n",
    "dc_attractions_gpd.head()"
   ]
  },
  {
   "cell_type": "code",
   "execution_count": 28,
   "id": "1df7e530",
   "metadata": {},
   "outputs": [
    {
     "data": {
      "text/plain": [
       "<AxesSubplot:>"
      ]
     },
     "execution_count": 28,
     "metadata": {},
     "output_type": "execute_result"
    },
    {
     "data": {
      "image/png": "[encoded data removed]",
      "text/plain": [
       "<Figure size 432x288 with 1 Axes>"
      ]
     },
     "metadata": {
      "needs_background": "light"
     },
     "output_type": "display_data"
    }
   ],
   "source": [
    "The ge\n",
    "dc_attractions_gpd.plot()"
   ]
  },
  {
   "cell_type": "code",
   "execution_count": null,
   "id": "20ee2efa",
   "metadata": {},
   "outputs": [],
   "source": []
  }
 ],
 "metadata": {
  "kernelspec": {
   "display_name": "Python 3 (ipykernel)",
   "language": "python",
   "name": "python3"
  },
  "language_info": {
   "codemirror_mode": {
    "name": "ipython",
    "version": 3
   },
   "file_extension": ".py",
   "mimetype": "text/x-python",
   "name": "python",
   "nbconvert_exporter": "python",
   "pygments_lexer": "ipython3",
   "version": "3.7.13"
  }
 },
 "nbformat": 4,
 "nbformat_minor": 5
}
