{
 "cells": [
  {
   "cell_type": "code",
   "execution_count": 1,
   "id": "60559fc7",
   "metadata": {},
   "outputs": [],
   "source": [
    "# Importing the requisite packages\n",
    "import pandas as pd\n",
    "import geopandas as gpd\n",
    "from geopandas.tools import geocode"
   ]
  },
  {
   "cell_type": "markdown",
   "id": "6b29b19e",
   "metadata": {},
   "source": [
    "# Reading in the data and geocoding"
   ]
  },
  {
   "cell_type": "code",
   "execution_count": 2,
   "id": "ef894053",
   "metadata": {},
   "outputs": [
    {
     "data": {
      "text/html": [
       "<div>\n",
       "<style scoped>\n",
       "    .dataframe tbody tr th:only-of-type {\n",
       "        vertical-align: middle;\n",
       "    }\n",
       "\n",
       "    .dataframe tbody tr th {\n",
       "        vertical-align: top;\n",
       "    }\n",
       "\n",
       "    .dataframe thead th {\n",
       "        text-align: right;\n",
       "    }\n",
       "</style>\n",
       "<table border=\"1\" class=\"dataframe\">\n",
       "  <thead>\n",
       "    <tr style=\"text-align: right;\">\n",
       "      <th></th>\n",
       "      <th>Attraction</th>\n",
       "      <th>Address</th>\n",
       "    </tr>\n",
       "  </thead>\n",
       "  <tbody>\n",
       "    <tr>\n",
       "      <th>0</th>\n",
       "      <td>Washington Monument</td>\n",
       "      <td>2 15th St NW, Washington, DC 20024</td>\n",
       "    </tr>\n",
       "    <tr>\n",
       "      <th>1</th>\n",
       "      <td>Smithsonian National Air and Space Museum</td>\n",
       "      <td>600 Independence Ave SW, Washington, DC 20560</td>\n",
       "    </tr>\n",
       "    <tr>\n",
       "      <th>2</th>\n",
       "      <td>White House</td>\n",
       "      <td>1600 Pennsylvania Avenue NW, Washington, DC 20500</td>\n",
       "    </tr>\n",
       "  </tbody>\n",
       "</table>\n",
       "</div>"
      ],
      "text/plain": [
       "                                  Attraction  \\\n",
       "0                        Washington Monument   \n",
       "1  Smithsonian National Air and Space Museum   \n",
       "2                                White House   \n",
       "\n",
       "                                             Address  \n",
       "0                 2 15th St NW, Washington, DC 20024  \n",
       "1      600 Independence Ave SW, Washington, DC 20560  \n",
       "2  1600 Pennsylvania Avenue NW, Washington, DC 20500  "
      ]
     },
     "execution_count": 2,
     "metadata": {},
     "output_type": "execute_result"
    }
   ],
   "source": [
    "dc_attractions = pd.read_csv(r'G:\\My Drive\\Geospatial Data Science with Python\\Data\\DC_Attractions.csv')\n",
    "dc_attractions.head()"
   ]
  },
  {
   "cell_type": "code",
   "execution_count": 3,
   "id": "8b7cb41e",
   "metadata": {},
   "outputs": [
    {
     "data": {
      "text/html": [
       "<div>\n",
       "<style scoped>\n",
       "    .dataframe tbody tr th:only-of-type {\n",
       "        vertical-align: middle;\n",
       "    }\n",
       "\n",
       "    .dataframe tbody tr th {\n",
       "        vertical-align: top;\n",
       "    }\n",
       "\n",
       "    .dataframe thead th {\n",
       "        text-align: right;\n",
       "    }\n",
       "</style>\n",
       "<table border=\"1\" class=\"dataframe\">\n",
       "  <thead>\n",
       "    <tr style=\"text-align: right;\">\n",
       "      <th></th>\n",
       "      <th>geometry</th>\n",
       "      <th>address</th>\n",
       "    </tr>\n",
       "  </thead>\n",
       "  <tbody>\n",
       "    <tr>\n",
       "      <th>0</th>\n",
       "      <td>POINT (-77.03459 38.90178)</td>\n",
       "      <td>15th Street NW, Golden Triangle, Washington, D...</td>\n",
       "    </tr>\n",
       "    <tr>\n",
       "      <th>1</th>\n",
       "      <td>POINT (-77.03771 38.88772)</td>\n",
       "      <td>Independence Avenue Southwest, Penn Quarter, W...</td>\n",
       "    </tr>\n",
       "    <tr>\n",
       "      <th>2</th>\n",
       "      <td>POINT (-77.03655 38.89772)</td>\n",
       "      <td>1600, Pennsylvania Avenue Northwest, Golden Tr...</td>\n",
       "    </tr>\n",
       "  </tbody>\n",
       "</table>\n",
       "</div>"
      ],
      "text/plain": [
       "                     geometry  \\\n",
       "0  POINT (-77.03459 38.90178)   \n",
       "1  POINT (-77.03771 38.88772)   \n",
       "2  POINT (-77.03655 38.89772)   \n",
       "\n",
       "                                             address  \n",
       "0  15th Street NW, Golden Triangle, Washington, D...  \n",
       "1  Independence Avenue Southwest, Penn Quarter, W...  \n",
       "2  1600, Pennsylvania Avenue Northwest, Golden Tr...  "
      ]
     },
     "execution_count": 3,
     "metadata": {},
     "output_type": "execute_result"
    }
   ],
   "source": [
    "# Geocode addresses using Nominatim. Remember to provide a custom \"application name\" in the user_agent parameter!\n",
    "dc_attractions_gpd = geocode(dc_attractions['Address'], provider='openmapquest', timeout=4, api_key=\"ZO5OH4wdsrGzmZL75HR5zKqcy9bUF0P9\")\n",
    "dc_attractions_gpd.head()"
   ]
  },
  {
   "cell_type": "markdown",
   "id": "32dc56e4",
   "metadata": {},
   "source": [
    "# Performing join"
   ]
  },
  {
   "cell_type": "code",
   "execution_count": 4,
   "id": "dd555c7a",
   "metadata": {},
   "outputs": [
    {
     "data": {
      "text/html": [
       "<div>\n",
       "<style scoped>\n",
       "    .dataframe tbody tr th:only-of-type {\n",
       "        vertical-align: middle;\n",
       "    }\n",
       "\n",
       "    .dataframe tbody tr th {\n",
       "        vertical-align: top;\n",
       "    }\n",
       "\n",
       "    .dataframe thead th {\n",
       "        text-align: right;\n",
       "    }\n",
       "</style>\n",
       "<table border=\"1\" class=\"dataframe\">\n",
       "  <thead>\n",
       "    <tr style=\"text-align: right;\">\n",
       "      <th></th>\n",
       "      <th>geometry</th>\n",
       "      <th>address</th>\n",
       "      <th>Attraction</th>\n",
       "    </tr>\n",
       "  </thead>\n",
       "  <tbody>\n",
       "    <tr>\n",
       "      <th>0</th>\n",
       "      <td>POINT (-77.03459 38.90178)</td>\n",
       "      <td>15th Street NW, Golden Triangle, Washington, D...</td>\n",
       "      <td>Washington Monument</td>\n",
       "    </tr>\n",
       "    <tr>\n",
       "      <th>1</th>\n",
       "      <td>POINT (-77.03771 38.88772)</td>\n",
       "      <td>Independence Avenue Southwest, Penn Quarter, W...</td>\n",
       "      <td>Smithsonian National Air and Space Museum</td>\n",
       "    </tr>\n",
       "    <tr>\n",
       "      <th>2</th>\n",
       "      <td>POINT (-77.03655 38.89772)</td>\n",
       "      <td>1600, Pennsylvania Avenue Northwest, Golden Tr...</td>\n",
       "      <td>White House</td>\n",
       "    </tr>\n",
       "  </tbody>\n",
       "</table>\n",
       "</div>"
      ],
      "text/plain": [
       "                     geometry  \\\n",
       "0  POINT (-77.03459 38.90178)   \n",
       "1  POINT (-77.03771 38.88772)   \n",
       "2  POINT (-77.03655 38.89772)   \n",
       "\n",
       "                                             address  \\\n",
       "0  15th Street NW, Golden Triangle, Washington, D...   \n",
       "1  Independence Avenue Southwest, Penn Quarter, W...   \n",
       "2  1600, Pennsylvania Avenue Northwest, Golden Tr...   \n",
       "\n",
       "                                  Attraction  \n",
       "0                        Washington Monument  \n",
       "1  Smithsonian National Air and Space Museum  \n",
       "2                                White House  "
      ]
     },
     "execution_count": 4,
     "metadata": {},
     "output_type": "execute_result"
    }
   ],
   "source": [
    "final_gpd = dc_attractions_gpd.merge(dc_attractions[['Attraction']], how='left',left_index=True, right_index = True)\n",
    "final_gpd.head()"
   ]
  },
  {
   "cell_type": "markdown",
   "id": "9c08a244",
   "metadata": {},
   "source": [
    "# Performing Boolean Filtering"
   ]
  },
  {
   "cell_type": "code",
   "execution_count": 5,
   "id": "c281e2bb",
   "metadata": {},
   "outputs": [
    {
     "data": {
      "text/html": [
       "<div>\n",
       "<style scoped>\n",
       "    .dataframe tbody tr th:only-of-type {\n",
       "        vertical-align: middle;\n",
       "    }\n",
       "\n",
       "    .dataframe tbody tr th {\n",
       "        vertical-align: top;\n",
       "    }\n",
       "\n",
       "    .dataframe thead th {\n",
       "        text-align: right;\n",
       "    }\n",
       "</style>\n",
       "<table border=\"1\" class=\"dataframe\">\n",
       "  <thead>\n",
       "    <tr style=\"text-align: right;\">\n",
       "      <th></th>\n",
       "      <th>geometry</th>\n",
       "      <th>address</th>\n",
       "      <th>Attraction</th>\n",
       "    </tr>\n",
       "  </thead>\n",
       "  <tbody>\n",
       "    <tr>\n",
       "      <th>2</th>\n",
       "      <td>POINT (-77.03655 38.89772)</td>\n",
       "      <td>1600, Pennsylvania Avenue Northwest, Golden Tr...</td>\n",
       "      <td>White House</td>\n",
       "    </tr>\n",
       "  </tbody>\n",
       "</table>\n",
       "</div>"
      ],
      "text/plain": [
       "                     geometry  \\\n",
       "2  POINT (-77.03655 38.89772)   \n",
       "\n",
       "                                             address   Attraction  \n",
       "2  1600, Pennsylvania Avenue Northwest, Golden Tr...  White House  "
      ]
     },
     "execution_count": 5,
     "metadata": {},
     "output_type": "execute_result"
    }
   ],
   "source": [
    "wh = final_gpd[final_gpd['Attraction'] == 'White House']\n",
    "wh.head()"
   ]
  },
  {
   "cell_type": "code",
   "execution_count": 6,
   "id": "827314cc",
   "metadata": {},
   "outputs": [
    {
     "data": {
      "text/plain": [
       "0    False\n",
       "1    False\n",
       "2     True\n",
       "Name: Attraction, dtype: bool"
      ]
     },
     "execution_count": 6,
     "metadata": {},
     "output_type": "execute_result"
    }
   ],
   "source": [
    "final_gpd['Attraction'] == 'White House'"
   ]
  },
  {
   "cell_type": "markdown",
   "id": "d7894b4b",
   "metadata": {},
   "source": [
    "# Exploring the data"
   ]
  },
  {
   "cell_type": "code",
   "execution_count": 7,
   "id": "e282f151",
   "metadata": {},
   "outputs": [
    {
     "name": "stdout",
     "output_type": "stream",
     "text": [
      "<class 'geopandas.geodataframe.GeoDataFrame'>\n",
      "Int64Index: 3 entries, 0 to 2\n",
      "Data columns (total 3 columns):\n",
      " #   Column      Non-Null Count  Dtype   \n",
      "---  ------      --------------  -----   \n",
      " 0   geometry    3 non-null      geometry\n",
      " 1   address     3 non-null      object  \n",
      " 2   Attraction  3 non-null      object  \n",
      "dtypes: geometry(1), object(2)\n",
      "memory usage: 204.0+ bytes\n"
     ]
    }
   ],
   "source": [
    "final_gpd.info()"
   ]
  }
 ],
 "metadata": {
  "kernelspec": {
   "display_name": "Python 3 (ipykernel)",
   "language": "python",
   "name": "python3"
  },
  "language_info": {
   "codemirror_mode": {
    "name": "ipython",
    "version": 3
   },
   "file_extension": ".py",
   "mimetype": "text/x-python",
   "name": "python",
   "nbconvert_exporter": "python",
   "pygments_lexer": "ipython3",
   "version": "3.10.4"
  }
 },
 "nbformat": 4,
 "nbformat_minor": 5
}
