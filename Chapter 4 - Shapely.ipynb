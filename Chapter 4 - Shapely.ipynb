{
 "cells": [
  {
   "cell_type": "code",
   "execution_count": 1,
   "id": "87f8d074",
   "metadata": {},
   "outputs": [],
   "source": [
    "# importing shapely subpackages\n",
    "import shapely.geometry\n",
    "import shapely.wkt"
   ]
  },
  {
   "cell_type": "code",
   "execution_count": 5,
   "id": "aabe1a1f",
   "metadata": {},
   "outputs": [
    {
     "data": {
      "image/svg+xml": [
       "<svg xmlns=\"http://www.w3.org/2000/svg\" xmlns:xlink=\"http://www.w3.org/1999/xlink\" width=\"100.0\" height=\"100.0\" viewBox=\"-0.36 -2.36 9.719999999999999 2.7199999999999998\" preserveAspectRatio=\"xMinYMin meet\"><g transform=\"matrix(1,0,0,-1,0,-2.0)\"><path fill-rule=\"evenodd\" fill=\"#66cc99\" stroke=\"#555555\" stroke-width=\"0.1944\" opacity=\"0.6\" d=\"M 0.0,0.0 L 0.0,-2.0 L 9.0,-2.0 L 9.0,0.0 L 0.0,0.0 z\" /></g></svg>"
      ],
      "text/plain": [
       "<shapely.geometry.polygon.Polygon at 0x1dba25aa688>"
      ]
     },
     "execution_count": 5,
     "metadata": {},
     "output_type": "execute_result"
    }
   ],
   "source": [
    "s_poly1 = shapely.wkt.loads(\"POLYGON ((0 0, 0 -2, 9 -2, 9 0, 0 0))\")\n",
    "s_poly1"
   ]
  },
  {
   "cell_type": "code",
   "execution_count": 6,
   "id": "62c09764",
   "metadata": {},
   "outputs": [
    {
     "name": "stderr",
     "output_type": "stream",
     "text": [
      "IllegalArgumentException: Points of LinearRing do not form a closed linestring\n"
     ]
    },
    {
     "ename": "WKTReadingError",
     "evalue": "Could not create geometry because of errors while reading input.",
     "output_type": "error",
     "traceback": [
      "\u001b[1;31m---------------------------------------------------------------------------\u001b[0m",
      "\u001b[1;31mWKTReadingError\u001b[0m                           Traceback (most recent call last)",
      "\u001b[1;32m~\\AppData\\Local\\Temp\\ipykernel_9796\\2198295616.py\u001b[0m in \u001b[0;36m<module>\u001b[1;34m\u001b[0m\n\u001b[1;32m----> 1\u001b[1;33m \u001b[0ms_poly2\u001b[0m \u001b[1;33m=\u001b[0m \u001b[0mshapely\u001b[0m\u001b[1;33m.\u001b[0m\u001b[0mwkt\u001b[0m\u001b[1;33m.\u001b[0m\u001b[0mloads\u001b[0m\u001b[1;33m(\u001b[0m\u001b[1;34m\"POLYGON ((0 0, 0 -2, 9 -2, 9 0))\"\u001b[0m\u001b[1;33m)\u001b[0m\u001b[1;33m\u001b[0m\u001b[1;33m\u001b[0m\u001b[0m\n\u001b[0m\u001b[0;32m      2\u001b[0m \u001b[0ms_poly2\u001b[0m\u001b[1;33m\u001b[0m\u001b[1;33m\u001b[0m\u001b[0m\n",
      "\u001b[1;32m~\\Anaconda3\\envs\\geopy\\lib\\site-packages\\shapely\\wkt.py\u001b[0m in \u001b[0;36mloads\u001b[1;34m(data)\u001b[0m\n\u001b[0;32m     20\u001b[0m     \u001b[0mShapely\u001b[0m \u001b[0mgeometry\u001b[0m \u001b[0mobject\u001b[0m\u001b[1;33m\u001b[0m\u001b[1;33m\u001b[0m\u001b[0m\n\u001b[0;32m     21\u001b[0m     \"\"\"\n\u001b[1;32m---> 22\u001b[1;33m     \u001b[1;32mreturn\u001b[0m \u001b[0mgeos\u001b[0m\u001b[1;33m.\u001b[0m\u001b[0mWKTReader\u001b[0m\u001b[1;33m(\u001b[0m\u001b[0mgeos\u001b[0m\u001b[1;33m.\u001b[0m\u001b[0mlgeos\u001b[0m\u001b[1;33m)\u001b[0m\u001b[1;33m.\u001b[0m\u001b[0mread\u001b[0m\u001b[1;33m(\u001b[0m\u001b[0mdata\u001b[0m\u001b[1;33m)\u001b[0m\u001b[1;33m\u001b[0m\u001b[1;33m\u001b[0m\u001b[0m\n\u001b[0m\u001b[0;32m     23\u001b[0m \u001b[1;33m\u001b[0m\u001b[0m\n\u001b[0;32m     24\u001b[0m \u001b[1;33m\u001b[0m\u001b[0m\n",
      "\u001b[1;32m~\\Anaconda3\\envs\\geopy\\lib\\site-packages\\shapely\\geos.py\u001b[0m in \u001b[0;36mread\u001b[1;34m(self, text)\u001b[0m\n\u001b[0;32m    288\u001b[0m         \u001b[1;32mif\u001b[0m \u001b[1;32mnot\u001b[0m \u001b[0mgeom\u001b[0m\u001b[1;33m:\u001b[0m\u001b[1;33m\u001b[0m\u001b[1;33m\u001b[0m\u001b[0m\n\u001b[0;32m    289\u001b[0m             raise WKTReadingError(\n\u001b[1;32m--> 290\u001b[1;33m                 \u001b[1;34m\"Could not create geometry because of errors \"\u001b[0m\u001b[1;33m\u001b[0m\u001b[1;33m\u001b[0m\u001b[0m\n\u001b[0m\u001b[0;32m    291\u001b[0m                 \"while reading input.\")\n\u001b[0;32m    292\u001b[0m         \u001b[1;31m# avoid circular import dependency\u001b[0m\u001b[1;33m\u001b[0m\u001b[1;33m\u001b[0m\u001b[1;33m\u001b[0m\u001b[0m\n",
      "\u001b[1;31mWKTReadingError\u001b[0m: Could not create geometry because of errors while reading input."
     ]
    }
   ],
   "source": [
    "# If you don't repeat the first and last coordiante to close the polygon, Shapely will throw an error.\n",
    "s_poly2 = shapely.wkt.loads(\"POLYGON ((0 0, 0 -2, 9 -2, 9 0))\")\n",
    "s_poly2"
   ]
  },
  {
   "cell_type": "code",
   "execution_count": 8,
   "id": "9e1e22e1",
   "metadata": {},
   "outputs": [
    {
     "data": {
      "image/svg+xml": [
       "<svg xmlns=\"http://www.w3.org/2000/svg\" xmlns:xlink=\"http://www.w3.org/1999/xlink\" width=\"100.0\" height=\"100.0\" viewBox=\"8.4 3.4 43.2 43.2\" preserveAspectRatio=\"xMinYMin meet\"><g transform=\"matrix(1,0,0,-1,0,50.0)\"><g><path fill-rule=\"evenodd\" fill=\"#66cc99\" stroke=\"#555555\" stroke-width=\"0.8640000000000001\" opacity=\"0.6\" d=\"M 50.0,40.0 L 20.0,45.0 L 45.0,30.0 L 50.0,40.0 z\" /><path fill-rule=\"evenodd\" fill=\"#66cc99\" stroke=\"#555555\" stroke-width=\"0.8640000000000001\" opacity=\"0.6\" d=\"M 25.0,35.0 L 10.0,30.0 L 10.0,18.0 L 30.0,5.0 L 45.0,20.0 L 25.0,35.0 z M 32.0,20.0 L 26.0,15.0 L 20.0,25.0 L 32.0,20.0 z\" /></g></g></svg>"
      ],
      "text/plain": [
       "<shapely.geometry.multipolygon.MultiPolygon at 0x1dba111d508>"
      ]
     },
     "execution_count": 8,
     "metadata": {},
     "output_type": "execute_result"
    }
   ],
   "source": [
    "# Shapely Multi-Polygon\n",
    "s_poly3 = shapely.wkt.loads(\"\"\"\n",
    "MULTIPOLYGON\n",
    "(((50 40, 20 45, 45 30, 50 40)),\n",
    "((25 35, 10 30, 10 18, 30 5, 45 20, 25 35), (32 20, 26 15, 20 25, 32 20)))\n",
    "\"\"\")\n",
    "s_poly3"
   ]
  },
  {
   "cell_type": "code",
   "execution_count": 10,
   "id": "438c3a80",
   "metadata": {},
   "outputs": [
    {
     "data": {
      "image/svg+xml": [
       "<svg xmlns=\"http://www.w3.org/2000/svg\" xmlns:xlink=\"http://www.w3.org/1999/xlink\" width=\"100.0\" height=\"100.0\" viewBox=\"-2.4 -0.4 10.8 3.8\" preserveAspectRatio=\"xMinYMin meet\"><g transform=\"matrix(1,0,0,-1,0,3.0)\"><polyline fill=\"none\" stroke=\"#66cc99\" stroke-width=\"0.21600000000000003\" points=\"5.0,0.5 5.0,3.0 -2.0,0.0 8.0,0.0\" opacity=\"0.8\" /></g></svg>"
      ],
      "text/plain": [
       "<shapely.geometry.linestring.LineString at 0x1dba26d6948>"
      ]
     },
     "execution_count": 10,
     "metadata": {},
     "output_type": "execute_result"
    }
   ],
   "source": [
    "# Produce a Shapely LineString geometry from a list of coordinates\n",
    "coords = [(5, 0.5), (5, 3), (-2, 0), (8, 0)]\n",
    "line = shapely.geometry.LineString(coords)\n",
    "line"
   ]
  },
  {
   "cell_type": "code",
   "execution_count": null,
   "id": "0c3ee491",
   "metadata": {},
   "outputs": [],
   "source": []
  }
 ],
 "metadata": {
  "kernelspec": {
   "display_name": "Python 3 (ipykernel)",
   "language": "python",
   "name": "python3"
  },
  "language_info": {
   "codemirror_mode": {
    "name": "ipython",
    "version": 3
   },
   "file_extension": ".py",
   "mimetype": "text/x-python",
   "name": "python",
   "nbconvert_exporter": "python",
   "pygments_lexer": "ipython3",
   "version": "3.7.13"
  }
 },
 "nbformat": 4,
 "nbformat_minor": 5
}
