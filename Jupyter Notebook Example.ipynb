{
 "cells": [
  {
   "cell_type": "markdown",
   "id": "c362b044",
   "metadata": {},
   "source": [
    "# This is a cell that represents level 1 markdown text"
   ]
  },
  {
   "cell_type": "markdown",
   "id": "41044d11",
   "metadata": {},
   "source": [
    "## This is a cell that represents level 2 markdown text"
   ]
  },
  {
   "cell_type": "markdown",
   "id": "4aec7bab",
   "metadata": {},
   "source": [
    "### This is a cell that represents level 3 markdown text"
   ]
  },
  {
   "cell_type": "code",
   "execution_count": 1,
   "id": "c1512f7b",
   "metadata": {},
   "outputs": [],
   "source": [
    "# Importing the requisite packages \n",
    "import geopandas as gpd"
   ]
  }
 ],
 "metadata": {
  "kernelspec": {
   "display_name": "Python 3 (ipykernel)",
   "language": "python",
   "name": "python3"
  },
  "language_info": {
   "codemirror_mode": {
    "name": "ipython",
    "version": 3
   },
   "file_extension": ".py",
   "mimetype": "text/x-python",
   "name": "python",
   "nbconvert_exporter": "python",
   "pygments_lexer": "ipython3",
   "version": "3.7.13"
  }
 },
 "nbformat": 4,
 "nbformat_minor": 5
}
