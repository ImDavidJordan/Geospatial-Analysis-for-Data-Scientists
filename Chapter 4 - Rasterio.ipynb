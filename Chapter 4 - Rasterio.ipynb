{
 "cells": [
  {
   "cell_type": "code",
   "execution_count": 3,
   "id": "8200f57a",
   "metadata": {},
   "outputs": [],
   "source": [
    "# Importing the required Python packages\n",
    "\n",
    "import rasterio\n",
    "from rasterio.plot import show\n",
    "import numpy as np\n",
    "import shapely.geometry\n",
    "import geopandas as gpd\n",
    "import glob"
   ]
  },
  {
   "cell_type": "markdown",
   "id": "4f31a611",
   "metadata": {},
   "source": [
    "### Making a connection to the raster file"
   ]
  },
  {
   "cell_type": "code",
   "execution_count": 5,
   "id": "ab5ff3b9",
   "metadata": {},
   "outputs": [
    {
     "data": {
      "text/plain": [
       "<open DatasetReader name='G:/My Drive/Geospatial Data Science with Python/Data/LCMS_CONUS_v2021-7_Land_Cover_Annual_2021/LCMS_CONUS_v2021-7_Land_Cover_2021.tif' mode='r'>"
      ]
     },
     "execution_count": 5,
     "metadata": {},
     "output_type": "execute_result"
    }
   ],
   "source": [
    "lc = rasterio.open(\"G:\\My Drive\\Geospatial Data Science with Python\\Data\\LCMS_CONUS_v2021-7_Land_Cover_Annual_2021\\LCMS_CONUS_v2021-7_Land_Cover_2021.tif\", mode='r')\n",
    "lc"
   ]
  },
  {
   "cell_type": "markdown",
   "id": "36c73f4a",
   "metadata": {},
   "source": [
    "### Working with the raster file properties"
   ]
  },
  {
   "cell_type": "code",
   "execution_count": 6,
   "id": "2e83d2f3",
   "metadata": {},
   "outputs": [
    {
     "data": {
      "text/plain": [
       "'G:/My Drive/Geospatial Data Science with Python/Data/LCMS_CONUS_v2021-7_Land_Cover_Annual_2021/LCMS_CONUS_v2021-7_Land_Cover_2021.tif'"
      ]
     },
     "execution_count": 6,
     "metadata": {},
     "output_type": "execute_result"
    }
   ],
   "source": [
    "lc.name"
   ]
  },
  {
   "cell_type": "code",
   "execution_count": 7,
   "id": "2aa54a83",
   "metadata": {},
   "outputs": [
    {
     "data": {
      "text/plain": [
       "{'driver': 'GTiff',\n",
       " 'dtype': 'uint8',\n",
       " 'nodata': 0.0,\n",
       " 'width': 154180,\n",
       " 'height': 97279,\n",
       " 'count': 1,\n",
       " 'crs': CRS.from_wkt('PROJCS[\"Albers_Conical_Equal_Area\",GEOGCS[\"WGS 84\",DATUM[\"WGS_1984\",SPHEROID[\"WGS 84\",6378137,298.257223563,AUTHORITY[\"EPSG\",\"7030\"]],AUTHORITY[\"EPSG\",\"6326\"]],PRIMEM[\"Greenwich\",0],UNIT[\"degree\",0.0174532925199433,AUTHORITY[\"EPSG\",\"9122\"]],AUTHORITY[\"EPSG\",\"4326\"]],PROJECTION[\"Albers_Conic_Equal_Area\"],PARAMETER[\"latitude_of_center\",23],PARAMETER[\"longitude_of_center\",-96],PARAMETER[\"standard_parallel_1\",29.5],PARAMETER[\"standard_parallel_2\",45.5],PARAMETER[\"false_easting\",0],PARAMETER[\"false_northing\",0],UNIT[\"metre\",1,AUTHORITY[\"EPSG\",\"9001\"]],AXIS[\"Easting\",EAST],AXIS[\"Northing\",NORTH]]'),\n",
       " 'transform': Affine(30.0, 0.0, -2361585.0,\n",
       "        0.0, -30.0, 3177435.0)}"
      ]
     },
     "execution_count": 7,
     "metadata": {},
     "output_type": "execute_result"
    }
   ],
   "source": [
    "lc.meta"
   ]
  },
  {
   "cell_type": "code",
   "execution_count": 8,
   "id": "d6fd0429",
   "metadata": {},
   "outputs": [
    {
     "data": {
      "text/plain": [
       "'GTiff'"
      ]
     },
     "execution_count": 8,
     "metadata": {},
     "output_type": "execute_result"
    }
   ],
   "source": [
    "lc.driver"
   ]
  },
  {
   "cell_type": "code",
   "execution_count": 9,
   "id": "0337c537",
   "metadata": {},
   "outputs": [
    {
     "data": {
      "text/plain": [
       "CRS.from_wkt('PROJCS[\"Albers_Conical_Equal_Area\",GEOGCS[\"WGS 84\",DATUM[\"WGS_1984\",SPHEROID[\"WGS 84\",6378137,298.257223563,AUTHORITY[\"EPSG\",\"7030\"]],AUTHORITY[\"EPSG\",\"6326\"]],PRIMEM[\"Greenwich\",0],UNIT[\"degree\",0.0174532925199433,AUTHORITY[\"EPSG\",\"9122\"]],AUTHORITY[\"EPSG\",\"4326\"]],PROJECTION[\"Albers_Conic_Equal_Area\"],PARAMETER[\"latitude_of_center\",23],PARAMETER[\"longitude_of_center\",-96],PARAMETER[\"standard_parallel_1\",29.5],PARAMETER[\"standard_parallel_2\",45.5],PARAMETER[\"false_easting\",0],PARAMETER[\"false_northing\",0],UNIT[\"metre\",1,AUTHORITY[\"EPSG\",\"9001\"]],AXIS[\"Easting\",EAST],AXIS[\"Northing\",NORTH]]')"
      ]
     },
     "execution_count": 9,
     "metadata": {},
     "output_type": "execute_result"
    }
   ],
   "source": [
    "lc.crs"
   ]
  },
  {
   "cell_type": "code",
   "execution_count": 11,
   "id": "2efb13cb",
   "metadata": {},
   "outputs": [
    {
     "data": {
      "text/plain": [
       "1"
      ]
     },
     "execution_count": 11,
     "metadata": {},
     "output_type": "execute_result"
    }
   ],
   "source": [
    "lc.count"
   ]
  },
  {
   "cell_type": "markdown",
   "id": "9953eafb",
   "metadata": {},
   "source": [
    "### Pulling the bounding box and converting it to a shapely geometry"
   ]
  },
  {
   "cell_type": "code",
   "execution_count": 12,
   "id": "a678d903",
   "metadata": {},
   "outputs": [
    {
     "data": {
      "text/plain": [
       "BoundingBox(left=-2361585.0, bottom=259065.0, right=2263815.0, top=3177435.0)"
      ]
     },
     "execution_count": 12,
     "metadata": {},
     "output_type": "execute_result"
    }
   ],
   "source": [
    "lc.bounds"
   ]
  },
  {
   "cell_type": "code",
   "execution_count": 14,
   "id": "3ac73e9b",
   "metadata": {},
   "outputs": [
    {
     "data": {
      "image/svg+xml": [
       "<svg xmlns=\"http://www.w3.org/2000/svg\" xmlns:xlink=\"http://www.w3.org/1999/xlink\" width=\"300\" height=\"300\" viewBox=\"-2546601.0 74049.0 4995432.0 3288402.0\" preserveAspectRatio=\"xMinYMin meet\"><g transform=\"matrix(1,0,0,-1,0,3436500.0)\"><path fill-rule=\"evenodd\" fill=\"#66cc99\" stroke=\"#555555\" stroke-width=\"33302.88\" opacity=\"0.6\" d=\"M 2263815.0,259065.0 L 2263815.0,3177435.0 L -2361585.0,3177435.0 L -2361585.0,259065.0 L 2263815.0,259065.0 z\" /></g></svg>"
      ],
      "text/plain": [
       "<shapely.geometry.polygon.Polygon at 0x25599b1a9c8>"
      ]
     },
     "execution_count": 14,
     "metadata": {},
     "output_type": "execute_result"
    }
   ],
   "source": [
    "lc_bbox = shapely.geometry.box(*lc.bounds)\n",
    "lc_bbox"
   ]
  },
  {
   "cell_type": "markdown",
   "id": "f6bd7fe1",
   "metadata": {},
   "source": [
    "### Plotting the raster data"
   ]
  },
  {
   "cell_type": "code",
   "execution_count": 21,
   "id": "be0b2c37",
   "metadata": {},
   "outputs": [
    {
     "data": {
      "image/png": "[encoded data removed]",
      "text/plain": [
       "<Figure size 432x288 with 1 Axes>"
      ]
     },
     "metadata": {
      "needs_background": "light"
     },
     "output_type": "display_data"
    }
   ],
   "source": [
    "from rasterio.windows import from_bounds\n",
    "from rasterio.enums import Resampling\n",
    "\n",
    "filepath = \"G:\\My Drive\\Geospatial Data Science with Python\\Data\\LCMS_CONUS_v2021-7_Land_Cover_Annual_2021\\LCMS_CONUS_v2021-7_Land_Cover_2021.tif\"\n",
    "\n",
    "left = -100000.0\n",
    "right = 100000.0\n",
    "top = 3177435\n",
    "bottom = 259065.0\n",
    "\n",
    "with rasterio.open(filepath) as src:\n",
    "    rst = src.read(1, window=from_bounds(left, bottom, right, top, src.transform))\n",
    "    show(rst)"
   ]
  },
  {
   "cell_type": "code",
   "execution_count": 30,
   "id": "d9162578",
   "metadata": {},
   "outputs": [
    {
     "data": {
      "image/png": "[encoded data removed]",
      "text/plain": [
       "<Figure size 432x288 with 1 Axes>"
      ]
     },
     "metadata": {
      "needs_background": "light"
     },
     "output_type": "display_data"
    }
   ],
   "source": [
    "left = -150000.0\n",
    "right = 250000.0\n",
    "top = 3177435\n",
    "bottom = 2050000.0\n",
    "\n",
    "with rasterio.open(filepath) as src:\n",
    "    rst = src.read(1, window=from_bounds(left, bottom, right, top, src.transform))\n",
    "    show(rst, cmap=\"Greys\")"
   ]
  },
  {
   "cell_type": "code",
   "execution_count": 34,
   "id": "7e948892",
   "metadata": {},
   "outputs": [
    {
     "ename": "AttributeError",
     "evalue": "'numpy.ndarray' object has no attribute 'crs'",
     "output_type": "error",
     "traceback": [
      "\u001b[1;31m---------------------------------------------------------------------------\u001b[0m",
      "\u001b[1;31mAttributeError\u001b[0m                            Traceback (most recent call last)",
      "\u001b[1;32m~\\AppData\\Local\\Temp\\ipykernel_25256\\578245868.py\u001b[0m in \u001b[0;36m<module>\u001b[1;34m\u001b[0m\n\u001b[1;32m----> 1\u001b[1;33m \u001b[0mrst\u001b[0m\u001b[1;33m.\u001b[0m\u001b[0mcrs\u001b[0m\u001b[1;33m\u001b[0m\u001b[1;33m\u001b[0m\u001b[0m\n\u001b[0m",
      "\u001b[1;31mAttributeError\u001b[0m: 'numpy.ndarray' object has no attribute 'crs'"
     ]
    }
   ],
   "source": [
    "rst.crs"
   ]
  },
  {
   "cell_type": "markdown",
   "id": "e15f64aa",
   "metadata": {},
   "source": [
    "### Writing Raster Data"
   ]
  },
  {
   "cell_type": "code",
   "execution_count": 55,
   "id": "bbc66d74",
   "metadata": {},
   "outputs": [],
   "source": [
    "# Code needs revision"
   ]
  },
  {
   "cell_type": "code",
   "execution_count": 40,
   "id": "f78afc50",
   "metadata": {},
   "outputs": [
    {
     "data": {
      "text/plain": [
       "array([[ 0,  0,  0, ...,  0,  0,  0],\n",
       "       [ 0,  0,  0, ...,  0,  0,  0],\n",
       "       [ 0,  0,  0, ...,  0,  0,  0],\n",
       "       ...,\n",
       "       [ 1,  1, 10, ..., 10, 10, 10],\n",
       "       [10,  1, 10, ..., 10, 10, 10],\n",
       "       [10,  1, 10, ..., 10, 10, 10]], dtype=uint8)"
      ]
     },
     "execution_count": 40,
     "metadata": {},
     "output_type": "execute_result"
    }
   ],
   "source": [
    "rst"
   ]
  },
  {
   "cell_type": "code",
   "execution_count": 42,
   "id": "2ab32a2c",
   "metadata": {},
   "outputs": [
    {
     "data": {
      "text/plain": [
       "Affine(90.0, 0.0, -150000.0,\n",
       "       0.0, -90.0, 250000.0)"
      ]
     },
     "execution_count": 42,
     "metadata": {},
     "output_type": "execute_result"
    }
   ],
   "source": [
    "new_transform = rasterio.transform.from_origin(west=-150000.0, north= 250000.0, xsize=90, ysize=90)\n",
    "new_transform"
   ]
  },
  {
   "cell_type": "code",
   "execution_count": 51,
   "id": "be8384a4",
   "metadata": {},
   "outputs": [],
   "source": [
    "out_path = \"G:\\My Drive\\Geospatial Data Science with Python\\Data\\Land Cover Subset\"\n",
    "new_raster = rasterio.open(out_path + \"\\LC_Subset.tif\", \n",
    "                           mode='w',\n",
    "                           driver = \"GTiff\",\n",
    "                           height = rst.shape[0],\n",
    "                           width = rst.shape[1],\n",
    "                           count = 1,\n",
    "                           dtype = rst.dtype,\n",
    "                           crs = 4326,\n",
    "                           transform = new_transform\n",
    "                          )"
   ]
  },
  {
   "cell_type": "code",
   "execution_count": 53,
   "id": "f35ef138",
   "metadata": {},
   "outputs": [
    {
     "data": {
      "image/png": "[encoded data removed]",
      "text/plain": [
       "<Figure size 432x288 with 1 Axes>"
      ]
     },
     "metadata": {
      "needs_background": "light"
     },
     "output_type": "display_data"
    },
    {
     "data": {
      "text/plain": [
       "<AxesSubplot:>"
      ]
     },
     "execution_count": 53,
     "metadata": {},
     "output_type": "execute_result"
    }
   ],
   "source": [
    "new_raster = rasterio.open(out_path + \"\\LC_Subset.tif\", mode='r')\n",
    "show(new_raster, cmap=\"Greys\")"
   ]
  }
 ],
 "metadata": {
  "kernelspec": {
   "display_name": "Python 3 (ipykernel)",
   "language": "python",
   "name": "python3"
  },
  "language_info": {
   "codemirror_mode": {
    "name": "ipython",
    "version": 3
   },
   "file_extension": ".py",
   "mimetype": "text/x-python",
   "name": "python",
   "nbconvert_exporter": "python",
   "pygments_lexer": "ipython3",
   "version": "3.7.13"
  }
 },
 "nbformat": 4,
 "nbformat_minor": 5
}
